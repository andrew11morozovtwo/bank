{
  "cells": [
    {
      "cell_type": "markdown",
      "metadata": {
        "id": "view-in-github"
      },
      "source": [
        "<a href=\"https://colab.research.google.com/github/Andrew11Morozov/ex.practic/blob/main/morozov_ab_credit_ipynb%22.ipynb\" target=\"_parent\"><img src=\"https://colab.research.google.com/assets/colab-badge.svg\" alt=\"Open In Colab\"/></a>"
      ],
      "id": "view-in-github"
    },
    {
      "cell_type": "markdown",
      "id": "3b663eee",
      "metadata": {
        "deletable": false,
        "editable": false,
        "id": "3b663eee"
      },
      "source": [
        "# Исследование надежности заемщиков\n"
      ]
    },
    {
      "cell_type": "markdown",
      "id": "7779ceef",
      "metadata": {
        "deletable": false,
        "editable": false,
        "id": "7779ceef"
      },
      "source": [
        "**Задание 1. Импортируйте библиотеку pandas. Считайте данные из csv-файла в датафрейм и сохраните в переменную `data`. Путь к файлу:**\n",
        "\n",
        "`/datasets/data.csv`"
      ]
    },
    {
      "cell_type": "code",
      "execution_count": 9,
      "id": "59436cf1",
      "metadata": {
        "deletable": false,
        "id": "59436cf1",
        "trusted": false
      },
      "outputs": [],
      "source": [
        "import pandas as pd\n",
        "\n",
        "try:\n",
        "    data = pd.read_csv('/datasets/data.csv')\n",
        "except:\n",
        "    data = pd.read_csv('https://code.s3.yandex.net/datasets/data.csv')"
      ]
    },
    {
      "cell_type": "markdown",
      "id": "e4ffb8de",
      "metadata": {
        "deletable": false,
        "editable": false,
        "id": "e4ffb8de"
      },
      "source": [
        "**Задание 2. Выведите первые 20 строчек датафрейма `data` на экран.**"
      ]
    },
    {
      "cell_type": "code",
      "execution_count": 10,
      "id": "317346a0",
      "metadata": {
        "deletable": false,
        "id": "317346a0",
        "outputId": "7fcbb69b-af9d-44ba-cebe-386562eb0bbc",
        "trusted": false,
        "colab": {
          "base_uri": "https://localhost:8080/",
          "height": 677
        }
      },
      "outputs": [
        {
          "output_type": "execute_result",
          "data": {
            "text/plain": [
              "    children  days_employed  dob_years            education  education_id  \\\n",
              "0          1   -8437.673028         42               высшее             0   \n",
              "1          1   -4024.803754         36              среднее             1   \n",
              "2          0   -5623.422610         33              Среднее             1   \n",
              "3          3   -4124.747207         32              среднее             1   \n",
              "4          0  340266.072047         53              среднее             1   \n",
              "5          0    -926.185831         27               высшее             0   \n",
              "6          0   -2879.202052         43               высшее             0   \n",
              "7          0    -152.779569         50              СРЕДНЕЕ             1   \n",
              "8          2   -6929.865299         35               ВЫСШЕЕ             0   \n",
              "9          0   -2188.756445         41              среднее             1   \n",
              "10         2   -4171.483647         36               высшее             0   \n",
              "11         0    -792.701887         40              среднее             1   \n",
              "12         0            NaN         65              среднее             1   \n",
              "13         0   -1846.641941         54  неоконченное высшее             2   \n",
              "14         0   -1844.956182         56               высшее             0   \n",
              "15         1    -972.364419         26              среднее             1   \n",
              "16         0   -1719.934226         35              среднее             1   \n",
              "17         0   -2369.999720         33               высшее             0   \n",
              "18         0  400281.136913         53              среднее             1   \n",
              "19         0  -10038.818549         48              СРЕДНЕЕ             1   \n",
              "\n",
              "       family_status  family_status_id gender income_type  debt  \\\n",
              "0    женат / замужем                 0      F   сотрудник     0   \n",
              "1    женат / замужем                 0      F   сотрудник     0   \n",
              "2    женат / замужем                 0      M   сотрудник     0   \n",
              "3    женат / замужем                 0      M   сотрудник     0   \n",
              "4   гражданский брак                 1      F   пенсионер     0   \n",
              "5   гражданский брак                 1      M   компаньон     0   \n",
              "6    женат / замужем                 0      F   компаньон     0   \n",
              "7    женат / замужем                 0      M   сотрудник     0   \n",
              "8   гражданский брак                 1      F   сотрудник     0   \n",
              "9    женат / замужем                 0      M   сотрудник     0   \n",
              "10   женат / замужем                 0      M   компаньон     0   \n",
              "11   женат / замужем                 0      F   сотрудник     0   \n",
              "12  гражданский брак                 1      M   пенсионер     0   \n",
              "13   женат / замужем                 0      F   сотрудник     0   \n",
              "14  гражданский брак                 1      F   компаньон     1   \n",
              "15   женат / замужем                 0      F   сотрудник     0   \n",
              "16   женат / замужем                 0      F   сотрудник     0   \n",
              "17  гражданский брак                 1      M   сотрудник     0   \n",
              "18    вдовец / вдова                 2      F   пенсионер     0   \n",
              "19         в разводе                 3      F   сотрудник     0   \n",
              "\n",
              "     total_income                                 purpose  \n",
              "0   253875.639453                           покупка жилья  \n",
              "1   112080.014102                 приобретение автомобиля  \n",
              "2   145885.952297                           покупка жилья  \n",
              "3   267628.550329              дополнительное образование  \n",
              "4   158616.077870                         сыграть свадьбу  \n",
              "5   255763.565419                           покупка жилья  \n",
              "6   240525.971920                       операции с жильем  \n",
              "7   135823.934197                             образование  \n",
              "8    95856.832424                   на проведение свадьбы  \n",
              "9   144425.938277                 покупка жилья для семьи  \n",
              "10  113943.491460                    покупка недвижимости  \n",
              "11   77069.234271       покупка коммерческой недвижимости  \n",
              "12            NaN                         сыграть свадьбу  \n",
              "13  130458.228857                 приобретение автомобиля  \n",
              "14  165127.911772              покупка жилой недвижимости  \n",
              "15  116820.904450  строительство собственной недвижимости  \n",
              "16  289202.704229                            недвижимость  \n",
              "17   90410.586745              строительство недвижимости  \n",
              "18   56823.777243      на покупку подержанного автомобиля  \n",
              "19  242831.107982            на покупку своего автомобиля  "
            ],
            "text/html": [
              "\n",
              "  <div id=\"df-c9c4435a-676b-4bad-acf8-fe9cede14f42\" class=\"colab-df-container\">\n",
              "    <div>\n",
              "<style scoped>\n",
              "    .dataframe tbody tr th:only-of-type {\n",
              "        vertical-align: middle;\n",
              "    }\n",
              "\n",
              "    .dataframe tbody tr th {\n",
              "        vertical-align: top;\n",
              "    }\n",
              "\n",
              "    .dataframe thead th {\n",
              "        text-align: right;\n",
              "    }\n",
              "</style>\n",
              "<table border=\"1\" class=\"dataframe\">\n",
              "  <thead>\n",
              "    <tr style=\"text-align: right;\">\n",
              "      <th></th>\n",
              "      <th>children</th>\n",
              "      <th>days_employed</th>\n",
              "      <th>dob_years</th>\n",
              "      <th>education</th>\n",
              "      <th>education_id</th>\n",
              "      <th>family_status</th>\n",
              "      <th>family_status_id</th>\n",
              "      <th>gender</th>\n",
              "      <th>income_type</th>\n",
              "      <th>debt</th>\n",
              "      <th>total_income</th>\n",
              "      <th>purpose</th>\n",
              "    </tr>\n",
              "  </thead>\n",
              "  <tbody>\n",
              "    <tr>\n",
              "      <th>0</th>\n",
              "      <td>1</td>\n",
              "      <td>-8437.673028</td>\n",
              "      <td>42</td>\n",
              "      <td>высшее</td>\n",
              "      <td>0</td>\n",
              "      <td>женат / замужем</td>\n",
              "      <td>0</td>\n",
              "      <td>F</td>\n",
              "      <td>сотрудник</td>\n",
              "      <td>0</td>\n",
              "      <td>253875.639453</td>\n",
              "      <td>покупка жилья</td>\n",
              "    </tr>\n",
              "    <tr>\n",
              "      <th>1</th>\n",
              "      <td>1</td>\n",
              "      <td>-4024.803754</td>\n",
              "      <td>36</td>\n",
              "      <td>среднее</td>\n",
              "      <td>1</td>\n",
              "      <td>женат / замужем</td>\n",
              "      <td>0</td>\n",
              "      <td>F</td>\n",
              "      <td>сотрудник</td>\n",
              "      <td>0</td>\n",
              "      <td>112080.014102</td>\n",
              "      <td>приобретение автомобиля</td>\n",
              "    </tr>\n",
              "    <tr>\n",
              "      <th>2</th>\n",
              "      <td>0</td>\n",
              "      <td>-5623.422610</td>\n",
              "      <td>33</td>\n",
              "      <td>Среднее</td>\n",
              "      <td>1</td>\n",
              "      <td>женат / замужем</td>\n",
              "      <td>0</td>\n",
              "      <td>M</td>\n",
              "      <td>сотрудник</td>\n",
              "      <td>0</td>\n",
              "      <td>145885.952297</td>\n",
              "      <td>покупка жилья</td>\n",
              "    </tr>\n",
              "    <tr>\n",
              "      <th>3</th>\n",
              "      <td>3</td>\n",
              "      <td>-4124.747207</td>\n",
              "      <td>32</td>\n",
              "      <td>среднее</td>\n",
              "      <td>1</td>\n",
              "      <td>женат / замужем</td>\n",
              "      <td>0</td>\n",
              "      <td>M</td>\n",
              "      <td>сотрудник</td>\n",
              "      <td>0</td>\n",
              "      <td>267628.550329</td>\n",
              "      <td>дополнительное образование</td>\n",
              "    </tr>\n",
              "    <tr>\n",
              "      <th>4</th>\n",
              "      <td>0</td>\n",
              "      <td>340266.072047</td>\n",
              "      <td>53</td>\n",
              "      <td>среднее</td>\n",
              "      <td>1</td>\n",
              "      <td>гражданский брак</td>\n",
              "      <td>1</td>\n",
              "      <td>F</td>\n",
              "      <td>пенсионер</td>\n",
              "      <td>0</td>\n",
              "      <td>158616.077870</td>\n",
              "      <td>сыграть свадьбу</td>\n",
              "    </tr>\n",
              "    <tr>\n",
              "      <th>5</th>\n",
              "      <td>0</td>\n",
              "      <td>-926.185831</td>\n",
              "      <td>27</td>\n",
              "      <td>высшее</td>\n",
              "      <td>0</td>\n",
              "      <td>гражданский брак</td>\n",
              "      <td>1</td>\n",
              "      <td>M</td>\n",
              "      <td>компаньон</td>\n",
              "      <td>0</td>\n",
              "      <td>255763.565419</td>\n",
              "      <td>покупка жилья</td>\n",
              "    </tr>\n",
              "    <tr>\n",
              "      <th>6</th>\n",
              "      <td>0</td>\n",
              "      <td>-2879.202052</td>\n",
              "      <td>43</td>\n",
              "      <td>высшее</td>\n",
              "      <td>0</td>\n",
              "      <td>женат / замужем</td>\n",
              "      <td>0</td>\n",
              "      <td>F</td>\n",
              "      <td>компаньон</td>\n",
              "      <td>0</td>\n",
              "      <td>240525.971920</td>\n",
              "      <td>операции с жильем</td>\n",
              "    </tr>\n",
              "    <tr>\n",
              "      <th>7</th>\n",
              "      <td>0</td>\n",
              "      <td>-152.779569</td>\n",
              "      <td>50</td>\n",
              "      <td>СРЕДНЕЕ</td>\n",
              "      <td>1</td>\n",
              "      <td>женат / замужем</td>\n",
              "      <td>0</td>\n",
              "      <td>M</td>\n",
              "      <td>сотрудник</td>\n",
              "      <td>0</td>\n",
              "      <td>135823.934197</td>\n",
              "      <td>образование</td>\n",
              "    </tr>\n",
              "    <tr>\n",
              "      <th>8</th>\n",
              "      <td>2</td>\n",
              "      <td>-6929.865299</td>\n",
              "      <td>35</td>\n",
              "      <td>ВЫСШЕЕ</td>\n",
              "      <td>0</td>\n",
              "      <td>гражданский брак</td>\n",
              "      <td>1</td>\n",
              "      <td>F</td>\n",
              "      <td>сотрудник</td>\n",
              "      <td>0</td>\n",
              "      <td>95856.832424</td>\n",
              "      <td>на проведение свадьбы</td>\n",
              "    </tr>\n",
              "    <tr>\n",
              "      <th>9</th>\n",
              "      <td>0</td>\n",
              "      <td>-2188.756445</td>\n",
              "      <td>41</td>\n",
              "      <td>среднее</td>\n",
              "      <td>1</td>\n",
              "      <td>женат / замужем</td>\n",
              "      <td>0</td>\n",
              "      <td>M</td>\n",
              "      <td>сотрудник</td>\n",
              "      <td>0</td>\n",
              "      <td>144425.938277</td>\n",
              "      <td>покупка жилья для семьи</td>\n",
              "    </tr>\n",
              "    <tr>\n",
              "      <th>10</th>\n",
              "      <td>2</td>\n",
              "      <td>-4171.483647</td>\n",
              "      <td>36</td>\n",
              "      <td>высшее</td>\n",
              "      <td>0</td>\n",
              "      <td>женат / замужем</td>\n",
              "      <td>0</td>\n",
              "      <td>M</td>\n",
              "      <td>компаньон</td>\n",
              "      <td>0</td>\n",
              "      <td>113943.491460</td>\n",
              "      <td>покупка недвижимости</td>\n",
              "    </tr>\n",
              "    <tr>\n",
              "      <th>11</th>\n",
              "      <td>0</td>\n",
              "      <td>-792.701887</td>\n",
              "      <td>40</td>\n",
              "      <td>среднее</td>\n",
              "      <td>1</td>\n",
              "      <td>женат / замужем</td>\n",
              "      <td>0</td>\n",
              "      <td>F</td>\n",
              "      <td>сотрудник</td>\n",
              "      <td>0</td>\n",
              "      <td>77069.234271</td>\n",
              "      <td>покупка коммерческой недвижимости</td>\n",
              "    </tr>\n",
              "    <tr>\n",
              "      <th>12</th>\n",
              "      <td>0</td>\n",
              "      <td>NaN</td>\n",
              "      <td>65</td>\n",
              "      <td>среднее</td>\n",
              "      <td>1</td>\n",
              "      <td>гражданский брак</td>\n",
              "      <td>1</td>\n",
              "      <td>M</td>\n",
              "      <td>пенсионер</td>\n",
              "      <td>0</td>\n",
              "      <td>NaN</td>\n",
              "      <td>сыграть свадьбу</td>\n",
              "    </tr>\n",
              "    <tr>\n",
              "      <th>13</th>\n",
              "      <td>0</td>\n",
              "      <td>-1846.641941</td>\n",
              "      <td>54</td>\n",
              "      <td>неоконченное высшее</td>\n",
              "      <td>2</td>\n",
              "      <td>женат / замужем</td>\n",
              "      <td>0</td>\n",
              "      <td>F</td>\n",
              "      <td>сотрудник</td>\n",
              "      <td>0</td>\n",
              "      <td>130458.228857</td>\n",
              "      <td>приобретение автомобиля</td>\n",
              "    </tr>\n",
              "    <tr>\n",
              "      <th>14</th>\n",
              "      <td>0</td>\n",
              "      <td>-1844.956182</td>\n",
              "      <td>56</td>\n",
              "      <td>высшее</td>\n",
              "      <td>0</td>\n",
              "      <td>гражданский брак</td>\n",
              "      <td>1</td>\n",
              "      <td>F</td>\n",
              "      <td>компаньон</td>\n",
              "      <td>1</td>\n",
              "      <td>165127.911772</td>\n",
              "      <td>покупка жилой недвижимости</td>\n",
              "    </tr>\n",
              "    <tr>\n",
              "      <th>15</th>\n",
              "      <td>1</td>\n",
              "      <td>-972.364419</td>\n",
              "      <td>26</td>\n",
              "      <td>среднее</td>\n",
              "      <td>1</td>\n",
              "      <td>женат / замужем</td>\n",
              "      <td>0</td>\n",
              "      <td>F</td>\n",
              "      <td>сотрудник</td>\n",
              "      <td>0</td>\n",
              "      <td>116820.904450</td>\n",
              "      <td>строительство собственной недвижимости</td>\n",
              "    </tr>\n",
              "    <tr>\n",
              "      <th>16</th>\n",
              "      <td>0</td>\n",
              "      <td>-1719.934226</td>\n",
              "      <td>35</td>\n",
              "      <td>среднее</td>\n",
              "      <td>1</td>\n",
              "      <td>женат / замужем</td>\n",
              "      <td>0</td>\n",
              "      <td>F</td>\n",
              "      <td>сотрудник</td>\n",
              "      <td>0</td>\n",
              "      <td>289202.704229</td>\n",
              "      <td>недвижимость</td>\n",
              "    </tr>\n",
              "    <tr>\n",
              "      <th>17</th>\n",
              "      <td>0</td>\n",
              "      <td>-2369.999720</td>\n",
              "      <td>33</td>\n",
              "      <td>высшее</td>\n",
              "      <td>0</td>\n",
              "      <td>гражданский брак</td>\n",
              "      <td>1</td>\n",
              "      <td>M</td>\n",
              "      <td>сотрудник</td>\n",
              "      <td>0</td>\n",
              "      <td>90410.586745</td>\n",
              "      <td>строительство недвижимости</td>\n",
              "    </tr>\n",
              "    <tr>\n",
              "      <th>18</th>\n",
              "      <td>0</td>\n",
              "      <td>400281.136913</td>\n",
              "      <td>53</td>\n",
              "      <td>среднее</td>\n",
              "      <td>1</td>\n",
              "      <td>вдовец / вдова</td>\n",
              "      <td>2</td>\n",
              "      <td>F</td>\n",
              "      <td>пенсионер</td>\n",
              "      <td>0</td>\n",
              "      <td>56823.777243</td>\n",
              "      <td>на покупку подержанного автомобиля</td>\n",
              "    </tr>\n",
              "    <tr>\n",
              "      <th>19</th>\n",
              "      <td>0</td>\n",
              "      <td>-10038.818549</td>\n",
              "      <td>48</td>\n",
              "      <td>СРЕДНЕЕ</td>\n",
              "      <td>1</td>\n",
              "      <td>в разводе</td>\n",
              "      <td>3</td>\n",
              "      <td>F</td>\n",
              "      <td>сотрудник</td>\n",
              "      <td>0</td>\n",
              "      <td>242831.107982</td>\n",
              "      <td>на покупку своего автомобиля</td>\n",
              "    </tr>\n",
              "  </tbody>\n",
              "</table>\n",
              "</div>\n",
              "    <div class=\"colab-df-buttons\">\n",
              "\n",
              "  <div class=\"colab-df-container\">\n",
              "    <button class=\"colab-df-convert\" onclick=\"convertToInteractive('df-c9c4435a-676b-4bad-acf8-fe9cede14f42')\"\n",
              "            title=\"Convert this dataframe to an interactive table.\"\n",
              "            style=\"display:none;\">\n",
              "\n",
              "  <svg xmlns=\"http://www.w3.org/2000/svg\" height=\"24px\" viewBox=\"0 -960 960 960\">\n",
              "    <path d=\"M120-120v-720h720v720H120Zm60-500h600v-160H180v160Zm220 220h160v-160H400v160Zm0 220h160v-160H400v160ZM180-400h160v-160H180v160Zm440 0h160v-160H620v160ZM180-180h160v-160H180v160Zm440 0h160v-160H620v160Z\"/>\n",
              "  </svg>\n",
              "    </button>\n",
              "\n",
              "  <style>\n",
              "    .colab-df-container {\n",
              "      display:flex;\n",
              "      gap: 12px;\n",
              "    }\n",
              "\n",
              "    .colab-df-convert {\n",
              "      background-color: #E8F0FE;\n",
              "      border: none;\n",
              "      border-radius: 50%;\n",
              "      cursor: pointer;\n",
              "      display: none;\n",
              "      fill: #1967D2;\n",
              "      height: 32px;\n",
              "      padding: 0 0 0 0;\n",
              "      width: 32px;\n",
              "    }\n",
              "\n",
              "    .colab-df-convert:hover {\n",
              "      background-color: #E2EBFA;\n",
              "      box-shadow: 0px 1px 2px rgba(60, 64, 67, 0.3), 0px 1px 3px 1px rgba(60, 64, 67, 0.15);\n",
              "      fill: #174EA6;\n",
              "    }\n",
              "\n",
              "    .colab-df-buttons div {\n",
              "      margin-bottom: 4px;\n",
              "    }\n",
              "\n",
              "    [theme=dark] .colab-df-convert {\n",
              "      background-color: #3B4455;\n",
              "      fill: #D2E3FC;\n",
              "    }\n",
              "\n",
              "    [theme=dark] .colab-df-convert:hover {\n",
              "      background-color: #434B5C;\n",
              "      box-shadow: 0px 1px 3px 1px rgba(0, 0, 0, 0.15);\n",
              "      filter: drop-shadow(0px 1px 2px rgba(0, 0, 0, 0.3));\n",
              "      fill: #FFFFFF;\n",
              "    }\n",
              "  </style>\n",
              "\n",
              "    <script>\n",
              "      const buttonEl =\n",
              "        document.querySelector('#df-c9c4435a-676b-4bad-acf8-fe9cede14f42 button.colab-df-convert');\n",
              "      buttonEl.style.display =\n",
              "        google.colab.kernel.accessAllowed ? 'block' : 'none';\n",
              "\n",
              "      async function convertToInteractive(key) {\n",
              "        const element = document.querySelector('#df-c9c4435a-676b-4bad-acf8-fe9cede14f42');\n",
              "        const dataTable =\n",
              "          await google.colab.kernel.invokeFunction('convertToInteractive',\n",
              "                                                    [key], {});\n",
              "        if (!dataTable) return;\n",
              "\n",
              "        const docLinkHtml = 'Like what you see? Visit the ' +\n",
              "          '<a target=\"_blank\" href=https://colab.research.google.com/notebooks/data_table.ipynb>data table notebook</a>'\n",
              "          + ' to learn more about interactive tables.';\n",
              "        element.innerHTML = '';\n",
              "        dataTable['output_type'] = 'display_data';\n",
              "        await google.colab.output.renderOutput(dataTable, element);\n",
              "        const docLink = document.createElement('div');\n",
              "        docLink.innerHTML = docLinkHtml;\n",
              "        element.appendChild(docLink);\n",
              "      }\n",
              "    </script>\n",
              "  </div>\n",
              "\n",
              "\n",
              "<div id=\"df-8805fe74-1ec9-4a97-99b2-81366090dd8b\">\n",
              "  <button class=\"colab-df-quickchart\" onclick=\"quickchart('df-8805fe74-1ec9-4a97-99b2-81366090dd8b')\"\n",
              "            title=\"Suggest charts\"\n",
              "            style=\"display:none;\">\n",
              "\n",
              "<svg xmlns=\"http://www.w3.org/2000/svg\" height=\"24px\"viewBox=\"0 0 24 24\"\n",
              "     width=\"24px\">\n",
              "    <g>\n",
              "        <path d=\"M19 3H5c-1.1 0-2 .9-2 2v14c0 1.1.9 2 2 2h14c1.1 0 2-.9 2-2V5c0-1.1-.9-2-2-2zM9 17H7v-7h2v7zm4 0h-2V7h2v10zm4 0h-2v-4h2v4z\"/>\n",
              "    </g>\n",
              "</svg>\n",
              "  </button>\n",
              "\n",
              "<style>\n",
              "  .colab-df-quickchart {\n",
              "      --bg-color: #E8F0FE;\n",
              "      --fill-color: #1967D2;\n",
              "      --hover-bg-color: #E2EBFA;\n",
              "      --hover-fill-color: #174EA6;\n",
              "      --disabled-fill-color: #AAA;\n",
              "      --disabled-bg-color: #DDD;\n",
              "  }\n",
              "\n",
              "  [theme=dark] .colab-df-quickchart {\n",
              "      --bg-color: #3B4455;\n",
              "      --fill-color: #D2E3FC;\n",
              "      --hover-bg-color: #434B5C;\n",
              "      --hover-fill-color: #FFFFFF;\n",
              "      --disabled-bg-color: #3B4455;\n",
              "      --disabled-fill-color: #666;\n",
              "  }\n",
              "\n",
              "  .colab-df-quickchart {\n",
              "    background-color: var(--bg-color);\n",
              "    border: none;\n",
              "    border-radius: 50%;\n",
              "    cursor: pointer;\n",
              "    display: none;\n",
              "    fill: var(--fill-color);\n",
              "    height: 32px;\n",
              "    padding: 0;\n",
              "    width: 32px;\n",
              "  }\n",
              "\n",
              "  .colab-df-quickchart:hover {\n",
              "    background-color: var(--hover-bg-color);\n",
              "    box-shadow: 0 1px 2px rgba(60, 64, 67, 0.3), 0 1px 3px 1px rgba(60, 64, 67, 0.15);\n",
              "    fill: var(--button-hover-fill-color);\n",
              "  }\n",
              "\n",
              "  .colab-df-quickchart-complete:disabled,\n",
              "  .colab-df-quickchart-complete:disabled:hover {\n",
              "    background-color: var(--disabled-bg-color);\n",
              "    fill: var(--disabled-fill-color);\n",
              "    box-shadow: none;\n",
              "  }\n",
              "\n",
              "  .colab-df-spinner {\n",
              "    border: 2px solid var(--fill-color);\n",
              "    border-color: transparent;\n",
              "    border-bottom-color: var(--fill-color);\n",
              "    animation:\n",
              "      spin 1s steps(1) infinite;\n",
              "  }\n",
              "\n",
              "  @keyframes spin {\n",
              "    0% {\n",
              "      border-color: transparent;\n",
              "      border-bottom-color: var(--fill-color);\n",
              "      border-left-color: var(--fill-color);\n",
              "    }\n",
              "    20% {\n",
              "      border-color: transparent;\n",
              "      border-left-color: var(--fill-color);\n",
              "      border-top-color: var(--fill-color);\n",
              "    }\n",
              "    30% {\n",
              "      border-color: transparent;\n",
              "      border-left-color: var(--fill-color);\n",
              "      border-top-color: var(--fill-color);\n",
              "      border-right-color: var(--fill-color);\n",
              "    }\n",
              "    40% {\n",
              "      border-color: transparent;\n",
              "      border-right-color: var(--fill-color);\n",
              "      border-top-color: var(--fill-color);\n",
              "    }\n",
              "    60% {\n",
              "      border-color: transparent;\n",
              "      border-right-color: var(--fill-color);\n",
              "    }\n",
              "    80% {\n",
              "      border-color: transparent;\n",
              "      border-right-color: var(--fill-color);\n",
              "      border-bottom-color: var(--fill-color);\n",
              "    }\n",
              "    90% {\n",
              "      border-color: transparent;\n",
              "      border-bottom-color: var(--fill-color);\n",
              "    }\n",
              "  }\n",
              "</style>\n",
              "\n",
              "  <script>\n",
              "    async function quickchart(key) {\n",
              "      const quickchartButtonEl =\n",
              "        document.querySelector('#' + key + ' button');\n",
              "      quickchartButtonEl.disabled = true;  // To prevent multiple clicks.\n",
              "      quickchartButtonEl.classList.add('colab-df-spinner');\n",
              "      try {\n",
              "        const charts = await google.colab.kernel.invokeFunction(\n",
              "            'suggestCharts', [key], {});\n",
              "      } catch (error) {\n",
              "        console.error('Error during call to suggestCharts:', error);\n",
              "      }\n",
              "      quickchartButtonEl.classList.remove('colab-df-spinner');\n",
              "      quickchartButtonEl.classList.add('colab-df-quickchart-complete');\n",
              "    }\n",
              "    (() => {\n",
              "      let quickchartButtonEl =\n",
              "        document.querySelector('#df-8805fe74-1ec9-4a97-99b2-81366090dd8b button');\n",
              "      quickchartButtonEl.style.display =\n",
              "        google.colab.kernel.accessAllowed ? 'block' : 'none';\n",
              "    })();\n",
              "  </script>\n",
              "</div>\n",
              "\n",
              "    </div>\n",
              "  </div>\n"
            ],
            "application/vnd.google.colaboratory.intrinsic+json": {
              "type": "dataframe",
              "variable_name": "data",
              "summary": "{\n  \"name\": \"data\",\n  \"rows\": 21525,\n  \"fields\": [\n    {\n      \"column\": \"children\",\n      \"properties\": {\n        \"dtype\": \"number\",\n        \"std\": 1,\n        \"min\": -1,\n        \"max\": 20,\n        \"num_unique_values\": 8,\n        \"samples\": [\n          0,\n          4,\n          1\n        ],\n        \"semantic_type\": \"\",\n        \"description\": \"\"\n      }\n    },\n    {\n      \"column\": \"days_employed\",\n      \"properties\": {\n        \"dtype\": \"number\",\n        \"std\": 140827.31197431733,\n        \"min\": -18388.949900568383,\n        \"max\": 401755.40047533,\n        \"num_unique_values\": 19351,\n        \"samples\": [\n          -4144.711271868319,\n          -1963.4835351775944,\n          -106.69195506879056\n        ],\n        \"semantic_type\": \"\",\n        \"description\": \"\"\n      }\n    },\n    {\n      \"column\": \"dob_years\",\n      \"properties\": {\n        \"dtype\": \"number\",\n        \"std\": 12,\n        \"min\": 0,\n        \"max\": 75,\n        \"num_unique_values\": 58,\n        \"samples\": [\n          42,\n          27,\n          64\n        ],\n        \"semantic_type\": \"\",\n        \"description\": \"\"\n      }\n    },\n    {\n      \"column\": \"education\",\n      \"properties\": {\n        \"dtype\": \"category\",\n        \"num_unique_values\": 15,\n        \"samples\": [\n          \"\\u041d\\u0435\\u043e\\u043a\\u043e\\u043d\\u0447\\u0435\\u043d\\u043d\\u043e\\u0435 \\u0432\\u044b\\u0441\\u0448\\u0435\\u0435\",\n          \"\\u041d\\u0430\\u0447\\u0430\\u043b\\u044c\\u043d\\u043e\\u0435\",\n          \"\\u0432\\u044b\\u0441\\u0448\\u0435\\u0435\"\n        ],\n        \"semantic_type\": \"\",\n        \"description\": \"\"\n      }\n    },\n    {\n      \"column\": \"education_id\",\n      \"properties\": {\n        \"dtype\": \"number\",\n        \"std\": 0,\n        \"min\": 0,\n        \"max\": 4,\n        \"num_unique_values\": 5,\n        \"samples\": [\n          1,\n          4,\n          2\n        ],\n        \"semantic_type\": \"\",\n        \"description\": \"\"\n      }\n    },\n    {\n      \"column\": \"family_status\",\n      \"properties\": {\n        \"dtype\": \"category\",\n        \"num_unique_values\": 5,\n        \"samples\": [\n          \"\\u0433\\u0440\\u0430\\u0436\\u0434\\u0430\\u043d\\u0441\\u043a\\u0438\\u0439 \\u0431\\u0440\\u0430\\u043a\",\n          \"\\u041d\\u0435 \\u0436\\u0435\\u043d\\u0430\\u0442 / \\u043d\\u0435 \\u0437\\u0430\\u043c\\u0443\\u0436\\u0435\\u043c\",\n          \"\\u0432\\u0434\\u043e\\u0432\\u0435\\u0446 / \\u0432\\u0434\\u043e\\u0432\\u0430\"\n        ],\n        \"semantic_type\": \"\",\n        \"description\": \"\"\n      }\n    },\n    {\n      \"column\": \"family_status_id\",\n      \"properties\": {\n        \"dtype\": \"number\",\n        \"std\": 1,\n        \"min\": 0,\n        \"max\": 4,\n        \"num_unique_values\": 5,\n        \"samples\": [\n          1,\n          4,\n          2\n        ],\n        \"semantic_type\": \"\",\n        \"description\": \"\"\n      }\n    },\n    {\n      \"column\": \"gender\",\n      \"properties\": {\n        \"dtype\": \"category\",\n        \"num_unique_values\": 3,\n        \"samples\": [\n          \"F\",\n          \"M\",\n          \"XNA\"\n        ],\n        \"semantic_type\": \"\",\n        \"description\": \"\"\n      }\n    },\n    {\n      \"column\": \"income_type\",\n      \"properties\": {\n        \"dtype\": \"category\",\n        \"num_unique_values\": 8,\n        \"samples\": [\n          \"\\u043f\\u0435\\u043d\\u0441\\u0438\\u043e\\u043d\\u0435\\u0440\",\n          \"\\u043f\\u0440\\u0435\\u0434\\u043f\\u0440\\u0438\\u043d\\u0438\\u043c\\u0430\\u0442\\u0435\\u043b\\u044c\",\n          \"\\u0441\\u043e\\u0442\\u0440\\u0443\\u0434\\u043d\\u0438\\u043a\"\n        ],\n        \"semantic_type\": \"\",\n        \"description\": \"\"\n      }\n    },\n    {\n      \"column\": \"debt\",\n      \"properties\": {\n        \"dtype\": \"number\",\n        \"std\": 0,\n        \"min\": 0,\n        \"max\": 1,\n        \"num_unique_values\": 2,\n        \"samples\": [\n          1,\n          0\n        ],\n        \"semantic_type\": \"\",\n        \"description\": \"\"\n      }\n    },\n    {\n      \"column\": \"total_income\",\n      \"properties\": {\n        \"dtype\": \"number\",\n        \"std\": 102971.56644797779,\n        \"min\": 20667.26379327158,\n        \"max\": 2265604.028722744,\n        \"num_unique_values\": 19351,\n        \"samples\": [\n          264985.90849759005,\n          145521.97728763806\n        ],\n        \"semantic_type\": \"\",\n        \"description\": \"\"\n      }\n    },\n    {\n      \"column\": \"purpose\",\n      \"properties\": {\n        \"dtype\": \"category\",\n        \"num_unique_values\": 38,\n        \"samples\": [\n          \"\\u0432\\u044b\\u0441\\u0448\\u0435\\u0435 \\u043e\\u0431\\u0440\\u0430\\u0437\\u043e\\u0432\\u0430\\u043d\\u0438\\u0435\",\n          \"\\u0440\\u0435\\u043c\\u043e\\u043d\\u0442 \\u0436\\u0438\\u043b\\u044c\\u044e\"\n        ],\n        \"semantic_type\": \"\",\n        \"description\": \"\"\n      }\n    }\n  ]\n}"
            }
          },
          "metadata": {},
          "execution_count": 10
        }
      ],
      "source": [
        "data.head(20)"
      ]
    },
    {
      "cell_type": "markdown",
      "id": "f75a5c27",
      "metadata": {
        "deletable": false,
        "editable": false,
        "id": "f75a5c27"
      },
      "source": [
        "**Задание 3. Выведите основную информацию о датафрейме с помощью метода `info()`.**"
      ]
    },
    {
      "cell_type": "code",
      "execution_count": 11,
      "id": "caad1643",
      "metadata": {
        "deletable": false,
        "id": "caad1643",
        "outputId": "abdfef22-5c6f-4d39-e6dc-930de34bf573",
        "trusted": false,
        "colab": {
          "base_uri": "https://localhost:8080/"
        }
      },
      "outputs": [
        {
          "output_type": "stream",
          "name": "stdout",
          "text": [
            "<class 'pandas.core.frame.DataFrame'>\n",
            "RangeIndex: 21525 entries, 0 to 21524\n",
            "Data columns (total 12 columns):\n",
            " #   Column            Non-Null Count  Dtype  \n",
            "---  ------            --------------  -----  \n",
            " 0   children          21525 non-null  int64  \n",
            " 1   days_employed     19351 non-null  float64\n",
            " 2   dob_years         21525 non-null  int64  \n",
            " 3   education         21525 non-null  object \n",
            " 4   education_id      21525 non-null  int64  \n",
            " 5   family_status     21525 non-null  object \n",
            " 6   family_status_id  21525 non-null  int64  \n",
            " 7   gender            21525 non-null  object \n",
            " 8   income_type       21525 non-null  object \n",
            " 9   debt              21525 non-null  int64  \n",
            " 10  total_income      19351 non-null  float64\n",
            " 11  purpose           21525 non-null  object \n",
            "dtypes: float64(2), int64(5), object(5)\n",
            "memory usage: 2.0+ MB\n"
          ]
        }
      ],
      "source": [
        "data.info()"
      ]
    },
    {
      "cell_type": "markdown",
      "id": "77cb62e5",
      "metadata": {
        "deletable": false,
        "editable": false,
        "id": "77cb62e5"
      },
      "source": [
        "## Предобработка данных"
      ]
    },
    {
      "cell_type": "markdown",
      "id": "f0ee2524",
      "metadata": {
        "deletable": false,
        "editable": false,
        "id": "f0ee2524"
      },
      "source": [
        "### Удаление пропусков"
      ]
    },
    {
      "cell_type": "markdown",
      "id": "f32087fd",
      "metadata": {
        "deletable": false,
        "editable": false,
        "id": "f32087fd"
      },
      "source": [
        "**Задание 4. Выведите количество пропущенных значений для каждого столбца. Используйте комбинацию двух методов.**"
      ]
    },
    {
      "cell_type": "code",
      "execution_count": 12,
      "id": "3f3ca370",
      "metadata": {
        "deletable": false,
        "id": "3f3ca370",
        "outputId": "31a56fb3-3156-411e-9d99-aafa1d1a90fa",
        "trusted": false,
        "colab": {
          "base_uri": "https://localhost:8080/",
          "height": 460
        }
      },
      "outputs": [
        {
          "output_type": "execute_result",
          "data": {
            "text/plain": [
              "children               0\n",
              "days_employed       2174\n",
              "dob_years              0\n",
              "education              0\n",
              "education_id           0\n",
              "family_status          0\n",
              "family_status_id       0\n",
              "gender                 0\n",
              "income_type            0\n",
              "debt                   0\n",
              "total_income        2174\n",
              "purpose                0\n",
              "dtype: int64"
            ],
            "text/html": [
              "<div>\n",
              "<style scoped>\n",
              "    .dataframe tbody tr th:only-of-type {\n",
              "        vertical-align: middle;\n",
              "    }\n",
              "\n",
              "    .dataframe tbody tr th {\n",
              "        vertical-align: top;\n",
              "    }\n",
              "\n",
              "    .dataframe thead th {\n",
              "        text-align: right;\n",
              "    }\n",
              "</style>\n",
              "<table border=\"1\" class=\"dataframe\">\n",
              "  <thead>\n",
              "    <tr style=\"text-align: right;\">\n",
              "      <th></th>\n",
              "      <th>0</th>\n",
              "    </tr>\n",
              "  </thead>\n",
              "  <tbody>\n",
              "    <tr>\n",
              "      <th>children</th>\n",
              "      <td>0</td>\n",
              "    </tr>\n",
              "    <tr>\n",
              "      <th>days_employed</th>\n",
              "      <td>2174</td>\n",
              "    </tr>\n",
              "    <tr>\n",
              "      <th>dob_years</th>\n",
              "      <td>0</td>\n",
              "    </tr>\n",
              "    <tr>\n",
              "      <th>education</th>\n",
              "      <td>0</td>\n",
              "    </tr>\n",
              "    <tr>\n",
              "      <th>education_id</th>\n",
              "      <td>0</td>\n",
              "    </tr>\n",
              "    <tr>\n",
              "      <th>family_status</th>\n",
              "      <td>0</td>\n",
              "    </tr>\n",
              "    <tr>\n",
              "      <th>family_status_id</th>\n",
              "      <td>0</td>\n",
              "    </tr>\n",
              "    <tr>\n",
              "      <th>gender</th>\n",
              "      <td>0</td>\n",
              "    </tr>\n",
              "    <tr>\n",
              "      <th>income_type</th>\n",
              "      <td>0</td>\n",
              "    </tr>\n",
              "    <tr>\n",
              "      <th>debt</th>\n",
              "      <td>0</td>\n",
              "    </tr>\n",
              "    <tr>\n",
              "      <th>total_income</th>\n",
              "      <td>2174</td>\n",
              "    </tr>\n",
              "    <tr>\n",
              "      <th>purpose</th>\n",
              "      <td>0</td>\n",
              "    </tr>\n",
              "  </tbody>\n",
              "</table>\n",
              "</div><br><label><b>dtype:</b> int64</label>"
            ]
          },
          "metadata": {},
          "execution_count": 12
        }
      ],
      "source": [
        "data.isna().sum()"
      ]
    },
    {
      "cell_type": "markdown",
      "id": "7ac32e73",
      "metadata": {
        "deletable": false,
        "editable": false,
        "id": "7ac32e73"
      },
      "source": [
        "**Задание 5. В двух столбцах есть пропущенные значения. Один из них — `days_employed`. Пропуски в этом столбце вы обработаете на следующем этапе. Другой столбец с пропущенными значениями — `total_income` — хранит данные о доходах. На сумму дохода сильнее всего влияет тип занятости, поэтому заполнить пропуски в этом столбце нужно медианным значением по каждому типу из столбца `income_type`. Например, у человека с типом занятости `сотрудник` пропуск в столбце `total_income` должен быть заполнен медианным доходом среди всех записей с тем же типом.**"
      ]
    },
    {
      "cell_type": "code",
      "execution_count": 13,
      "id": "c69fe046",
      "metadata": {
        "deletable": false,
        "id": "c69fe046",
        "trusted": false
      },
      "outputs": [],
      "source": [
        "for t in data['income_type'].unique():\n",
        "    data.loc[(data['income_type'] == t) & (data['total_income'].isna()), 'total_income'] = \\\n",
        "    data.loc[(data['income_type'] == t), 'total_income'].median()"
      ]
    },
    {
      "cell_type": "markdown",
      "id": "797dcdc9",
      "metadata": {
        "deletable": false,
        "editable": false,
        "id": "797dcdc9"
      },
      "source": [
        "### Обработка аномальных значений"
      ]
    },
    {
      "cell_type": "markdown",
      "id": "86ac3320",
      "metadata": {
        "deletable": false,
        "editable": false,
        "id": "86ac3320"
      },
      "source": [
        "**Задание 6. В данных могут встречаться артефакты (аномалии) — значения, которые не отражают действительность и появились по какой-то ошибке. таким артефактом будет отрицательное количество дней трудового стажа в столбце `days_employed`. Для реальных данных это нормально. Обработайте значения в этом столбце: замените все отрицательные значения положительными с помощью метода `abs()`.**"
      ]
    },
    {
      "cell_type": "code",
      "execution_count": 14,
      "id": "b991276b",
      "metadata": {
        "deletable": false,
        "id": "b991276b",
        "trusted": false
      },
      "outputs": [],
      "source": [
        "data['days_employed'] = data['days_employed'].abs()"
      ]
    },
    {
      "cell_type": "markdown",
      "id": "5a1fbcac",
      "metadata": {
        "deletable": false,
        "editable": false,
        "id": "5a1fbcac"
      },
      "source": [
        "**Задание 7. Для каждого типа занятости выведите медианное значение трудового стажа `days_employed` в днях.**"
      ]
    },
    {
      "cell_type": "code",
      "execution_count": 15,
      "id": "9a8aad6b",
      "metadata": {
        "deletable": false,
        "id": "9a8aad6b",
        "outputId": "effda93d-95ff-4868-92a7-aff3df5fa1f8",
        "trusted": false,
        "colab": {
          "base_uri": "https://localhost:8080/",
          "height": 366
        }
      },
      "outputs": [
        {
          "output_type": "execute_result",
          "data": {
            "text/plain": [
              "income_type\n",
              "безработный        366413.652744\n",
              "в декрете            3296.759962\n",
              "госслужащий          2689.368353\n",
              "компаньон            1547.382223\n",
              "пенсионер          365213.306266\n",
              "предприниматель       520.848083\n",
              "сотрудник            1574.202821\n",
              "студент               578.751554\n",
              "Name: days_employed, dtype: float64"
            ],
            "text/html": [
              "<div>\n",
              "<style scoped>\n",
              "    .dataframe tbody tr th:only-of-type {\n",
              "        vertical-align: middle;\n",
              "    }\n",
              "\n",
              "    .dataframe tbody tr th {\n",
              "        vertical-align: top;\n",
              "    }\n",
              "\n",
              "    .dataframe thead th {\n",
              "        text-align: right;\n",
              "    }\n",
              "</style>\n",
              "<table border=\"1\" class=\"dataframe\">\n",
              "  <thead>\n",
              "    <tr style=\"text-align: right;\">\n",
              "      <th></th>\n",
              "      <th>days_employed</th>\n",
              "    </tr>\n",
              "    <tr>\n",
              "      <th>income_type</th>\n",
              "      <th></th>\n",
              "    </tr>\n",
              "  </thead>\n",
              "  <tbody>\n",
              "    <tr>\n",
              "      <th>безработный</th>\n",
              "      <td>366413.652744</td>\n",
              "    </tr>\n",
              "    <tr>\n",
              "      <th>в декрете</th>\n",
              "      <td>3296.759962</td>\n",
              "    </tr>\n",
              "    <tr>\n",
              "      <th>госслужащий</th>\n",
              "      <td>2689.368353</td>\n",
              "    </tr>\n",
              "    <tr>\n",
              "      <th>компаньон</th>\n",
              "      <td>1547.382223</td>\n",
              "    </tr>\n",
              "    <tr>\n",
              "      <th>пенсионер</th>\n",
              "      <td>365213.306266</td>\n",
              "    </tr>\n",
              "    <tr>\n",
              "      <th>предприниматель</th>\n",
              "      <td>520.848083</td>\n",
              "    </tr>\n",
              "    <tr>\n",
              "      <th>сотрудник</th>\n",
              "      <td>1574.202821</td>\n",
              "    </tr>\n",
              "    <tr>\n",
              "      <th>студент</th>\n",
              "      <td>578.751554</td>\n",
              "    </tr>\n",
              "  </tbody>\n",
              "</table>\n",
              "</div><br><label><b>dtype:</b> float64</label>"
            ]
          },
          "metadata": {},
          "execution_count": 15
        }
      ],
      "source": [
        "data.groupby('income_type')['days_employed'].agg('median')"
      ]
    },
    {
      "cell_type": "markdown",
      "id": "41f4dcc2",
      "metadata": {
        "deletable": false,
        "editable": false,
        "id": "41f4dcc2"
      },
      "source": [
        "У двух типов (безработные и пенсионеры) получатся аномально большие значения. Исправить такие значения сложно, поэтому оставьте их как есть. Тем более этот столбец не понадобится вам для исследования."
      ]
    },
    {
      "cell_type": "markdown",
      "id": "5256546e",
      "metadata": {
        "deletable": false,
        "editable": false,
        "id": "5256546e"
      },
      "source": [
        "**Задание 8. Выведите перечень уникальных значений столбца `children`.**"
      ]
    },
    {
      "cell_type": "code",
      "execution_count": 16,
      "id": "aebfdbb3",
      "metadata": {
        "deletable": false,
        "id": "aebfdbb3",
        "outputId": "c58314d7-3f3b-49a1-9f03-43fcf5bc67c1",
        "trusted": false,
        "colab": {
          "base_uri": "https://localhost:8080/"
        }
      },
      "outputs": [
        {
          "output_type": "execute_result",
          "data": {
            "text/plain": [
              "array([ 1,  0,  3,  2, -1,  4, 20,  5])"
            ]
          },
          "metadata": {},
          "execution_count": 16
        }
      ],
      "source": [
        "data['children'].unique()"
      ]
    },
    {
      "cell_type": "markdown",
      "id": "c59b2d8c",
      "metadata": {
        "deletable": false,
        "editable": false,
        "id": "c59b2d8c"
      },
      "source": [
        "**Задание 9. В столбце `children` есть два аномальных значения. Удалите строки, в которых встречаются такие аномальные значения из датафрейма `data`.**"
      ]
    },
    {
      "cell_type": "code",
      "execution_count": 17,
      "id": "90d43261",
      "metadata": {
        "deletable": false,
        "id": "90d43261",
        "trusted": false
      },
      "outputs": [],
      "source": [
        "data = data[(data['children'] != -1) & (data['children'] != 20)]"
      ]
    },
    {
      "cell_type": "markdown",
      "id": "e495f38c",
      "metadata": {
        "deletable": false,
        "editable": false,
        "id": "e495f38c"
      },
      "source": [
        "**Задание 10. Ещё раз выведите перечень уникальных значений столбца `children`, чтобы убедиться, что артефакты удалены.**"
      ]
    },
    {
      "cell_type": "code",
      "execution_count": 18,
      "id": "a1b56d41",
      "metadata": {
        "deletable": false,
        "id": "a1b56d41",
        "outputId": "e93a2617-9138-4e3b-ed3d-27d9fd88909f",
        "trusted": false,
        "colab": {
          "base_uri": "https://localhost:8080/"
        }
      },
      "outputs": [
        {
          "output_type": "execute_result",
          "data": {
            "text/plain": [
              "array([1, 0, 3, 2, 4, 5])"
            ]
          },
          "metadata": {},
          "execution_count": 18
        }
      ],
      "source": [
        "data['children'].unique()"
      ]
    },
    {
      "cell_type": "markdown",
      "id": "f2cdfb28",
      "metadata": {
        "deletable": false,
        "editable": false,
        "id": "f2cdfb28"
      },
      "source": [
        "### Удаление пропусков (продолжение)"
      ]
    },
    {
      "cell_type": "markdown",
      "id": "2ef7a795",
      "metadata": {
        "deletable": false,
        "editable": false,
        "id": "2ef7a795"
      },
      "source": [
        "**Задание 11. Заполните пропуски в столбце `days_employed` медианными значениями по каждого типа занятости `income_type`.**"
      ]
    },
    {
      "cell_type": "code",
      "execution_count": 19,
      "id": "b2ce4277",
      "metadata": {
        "deletable": false,
        "id": "b2ce4277",
        "trusted": false
      },
      "outputs": [],
      "source": [
        "for t in data['income_type'].unique():\n",
        "    data.loc[(data['income_type'] == t) & (data['days_employed'].isna()), 'days_employed'] = \\\n",
        "    data.loc[(data['income_type'] == t), 'days_employed'].median()"
      ]
    },
    {
      "cell_type": "markdown",
      "id": "ac09ae8c",
      "metadata": {
        "deletable": false,
        "editable": false,
        "id": "ac09ae8c"
      },
      "source": [
        "**Задание 12. Убедитесь, что все пропуски заполнены. Проверьте себя и ещё раз выведите количество пропущенных значений для каждого столбца с помощью двух методов.**"
      ]
    },
    {
      "cell_type": "code",
      "execution_count": 20,
      "id": "af5b42b9",
      "metadata": {
        "deletable": false,
        "id": "af5b42b9",
        "outputId": "33e3bac3-48ed-4abb-ae9b-b8b883407b3a",
        "trusted": false,
        "colab": {
          "base_uri": "https://localhost:8080/",
          "height": 460
        }
      },
      "outputs": [
        {
          "output_type": "execute_result",
          "data": {
            "text/plain": [
              "children            0\n",
              "days_employed       0\n",
              "dob_years           0\n",
              "education           0\n",
              "education_id        0\n",
              "family_status       0\n",
              "family_status_id    0\n",
              "gender              0\n",
              "income_type         0\n",
              "debt                0\n",
              "total_income        0\n",
              "purpose             0\n",
              "dtype: int64"
            ],
            "text/html": [
              "<div>\n",
              "<style scoped>\n",
              "    .dataframe tbody tr th:only-of-type {\n",
              "        vertical-align: middle;\n",
              "    }\n",
              "\n",
              "    .dataframe tbody tr th {\n",
              "        vertical-align: top;\n",
              "    }\n",
              "\n",
              "    .dataframe thead th {\n",
              "        text-align: right;\n",
              "    }\n",
              "</style>\n",
              "<table border=\"1\" class=\"dataframe\">\n",
              "  <thead>\n",
              "    <tr style=\"text-align: right;\">\n",
              "      <th></th>\n",
              "      <th>0</th>\n",
              "    </tr>\n",
              "  </thead>\n",
              "  <tbody>\n",
              "    <tr>\n",
              "      <th>children</th>\n",
              "      <td>0</td>\n",
              "    </tr>\n",
              "    <tr>\n",
              "      <th>days_employed</th>\n",
              "      <td>0</td>\n",
              "    </tr>\n",
              "    <tr>\n",
              "      <th>dob_years</th>\n",
              "      <td>0</td>\n",
              "    </tr>\n",
              "    <tr>\n",
              "      <th>education</th>\n",
              "      <td>0</td>\n",
              "    </tr>\n",
              "    <tr>\n",
              "      <th>education_id</th>\n",
              "      <td>0</td>\n",
              "    </tr>\n",
              "    <tr>\n",
              "      <th>family_status</th>\n",
              "      <td>0</td>\n",
              "    </tr>\n",
              "    <tr>\n",
              "      <th>family_status_id</th>\n",
              "      <td>0</td>\n",
              "    </tr>\n",
              "    <tr>\n",
              "      <th>gender</th>\n",
              "      <td>0</td>\n",
              "    </tr>\n",
              "    <tr>\n",
              "      <th>income_type</th>\n",
              "      <td>0</td>\n",
              "    </tr>\n",
              "    <tr>\n",
              "      <th>debt</th>\n",
              "      <td>0</td>\n",
              "    </tr>\n",
              "    <tr>\n",
              "      <th>total_income</th>\n",
              "      <td>0</td>\n",
              "    </tr>\n",
              "    <tr>\n",
              "      <th>purpose</th>\n",
              "      <td>0</td>\n",
              "    </tr>\n",
              "  </tbody>\n",
              "</table>\n",
              "</div><br><label><b>dtype:</b> int64</label>"
            ]
          },
          "metadata": {},
          "execution_count": 20
        }
      ],
      "source": [
        "data.isna().sum()"
      ]
    },
    {
      "cell_type": "markdown",
      "id": "e6c222cd",
      "metadata": {
        "deletable": false,
        "editable": false,
        "id": "e6c222cd"
      },
      "source": [
        "### Изменение типов данных"
      ]
    },
    {
      "cell_type": "markdown",
      "id": "bb54fd23",
      "metadata": {
        "deletable": false,
        "editable": false,
        "id": "bb54fd23"
      },
      "source": [
        "**Задание 13. Замените вещественный тип данных в столбце `total_income` на целочисленный с помощью метода `astype()`.**"
      ]
    },
    {
      "cell_type": "code",
      "execution_count": 21,
      "id": "92c6f7ce",
      "metadata": {
        "deletable": false,
        "id": "92c6f7ce",
        "trusted": false,
        "colab": {
          "base_uri": "https://localhost:8080/"
        },
        "outputId": "fe91ec14-a46d-4fb4-907a-619d5c40d652"
      },
      "outputs": [
        {
          "output_type": "stream",
          "name": "stderr",
          "text": [
            "<ipython-input-21-990472087ee4>:1: SettingWithCopyWarning: \n",
            "A value is trying to be set on a copy of a slice from a DataFrame.\n",
            "Try using .loc[row_indexer,col_indexer] = value instead\n",
            "\n",
            "See the caveats in the documentation: https://pandas.pydata.org/pandas-docs/stable/user_guide/indexing.html#returning-a-view-versus-a-copy\n",
            "  data['total_income'] = data['total_income'].astype(int)\n"
          ]
        }
      ],
      "source": [
        "data['total_income'] = data['total_income'].astype(int)"
      ]
    },
    {
      "cell_type": "markdown",
      "id": "3da55781",
      "metadata": {
        "deletable": false,
        "editable": false,
        "id": "3da55781"
      },
      "source": [
        "### Обработка дубликатов"
      ]
    },
    {
      "cell_type": "markdown",
      "id": "ceeafe0d",
      "metadata": {
        "deletable": false,
        "editable": false,
        "id": "ceeafe0d"
      },
      "source": [
        "**Задание 14. Обработайте неявные дубликаты в столбце `education`. В этом столбце есть одни и те же значения, но записанные по-разному: с использованием заглавных и строчных букв. Приведите их к нижнему регистру. Проверьте остальные столбцы.**"
      ]
    },
    {
      "cell_type": "code",
      "execution_count": 22,
      "id": "789c2d2c",
      "metadata": {
        "deletable": false,
        "trusted": false,
        "id": "789c2d2c",
        "colab": {
          "base_uri": "https://localhost:8080/"
        },
        "outputId": "0cafc960-8cf8-43ab-c4bb-0093474ce85e"
      },
      "outputs": [
        {
          "output_type": "stream",
          "name": "stderr",
          "text": [
            "<ipython-input-22-d4b849f854d7>:1: SettingWithCopyWarning: \n",
            "A value is trying to be set on a copy of a slice from a DataFrame.\n",
            "Try using .loc[row_indexer,col_indexer] = value instead\n",
            "\n",
            "See the caveats in the documentation: https://pandas.pydata.org/pandas-docs/stable/user_guide/indexing.html#returning-a-view-versus-a-copy\n",
            "  data['education'] = data['education'].str.lower()\n"
          ]
        }
      ],
      "source": [
        "data['education'] = data['education'].str.lower()"
      ]
    },
    {
      "cell_type": "markdown",
      "id": "40556903",
      "metadata": {
        "deletable": false,
        "editable": false,
        "id": "40556903"
      },
      "source": [
        "**Задание 15. Выведите на экран количество строк-дубликатов в данных. Если такие строки присутствуют, удалите их.**"
      ]
    },
    {
      "cell_type": "code",
      "execution_count": 23,
      "id": "6f24bf1f",
      "metadata": {
        "deletable": false,
        "id": "6f24bf1f",
        "outputId": "753f3b95-416d-4ac0-91d9-d0ac0683e649",
        "trusted": false,
        "colab": {
          "base_uri": "https://localhost:8080/"
        }
      },
      "outputs": [
        {
          "output_type": "execute_result",
          "data": {
            "text/plain": [
              "71"
            ]
          },
          "metadata": {},
          "execution_count": 23
        }
      ],
      "source": [
        "data.duplicated().sum()"
      ]
    },
    {
      "cell_type": "code",
      "execution_count": 24,
      "id": "aabc3d20",
      "metadata": {
        "deletable": false,
        "id": "aabc3d20",
        "trusted": false
      },
      "outputs": [],
      "source": [
        "data = data.drop_duplicates()"
      ]
    },
    {
      "cell_type": "markdown",
      "id": "e223cf70",
      "metadata": {
        "deletable": false,
        "editable": false,
        "id": "e223cf70"
      },
      "source": [
        "### Категоризация данных"
      ]
    },
    {
      "cell_type": "markdown",
      "id": "c8b7174e",
      "metadata": {
        "deletable": false,
        "editable": false,
        "id": "c8b7174e"
      },
      "source": [
        "**Задание 16. На основании диапазонов, указанных ниже, создайте в датафрейме `data` столбец `total_income_category` с категориями:**\n",
        "\n",
        "- 0–30000 — `'E'`;\n",
        "- 30001–50000 — `'D'`;\n",
        "- 50001–200000 — `'C'`;\n",
        "- 200001–1000000 — `'B'`;\n",
        "- 1000001 и выше — `'A'`.\n",
        "\n",
        "\n",
        "**Например, кредитополучателю с доходом 25000 нужно назначить категорию `'E'`, а клиенту, получающему 235000, — `'B'`. Используйте собственную функцию с именем `categorize_income()` и метод `apply()`.**"
      ]
    },
    {
      "cell_type": "code",
      "execution_count": 25,
      "id": "41dfae2e",
      "metadata": {
        "deletable": false,
        "id": "41dfae2e",
        "trusted": false
      },
      "outputs": [],
      "source": [
        "def categorize_income(income):\n",
        "    try:\n",
        "        if 0 <= income <= 30000:\n",
        "            return 'E'\n",
        "        elif 30001 <= income <= 50000:\n",
        "            return 'D'\n",
        "        elif 50001 <= income <= 200000:\n",
        "            return 'C'\n",
        "        elif 200001 <= income <= 1000000:\n",
        "            return 'B'\n",
        "        elif income >= 1000001:\n",
        "            return 'A'\n",
        "    except:\n",
        "        pass"
      ]
    },
    {
      "cell_type": "code",
      "execution_count": 26,
      "id": "f009cfb1",
      "metadata": {
        "deletable": false,
        "id": "f009cfb1",
        "trusted": false
      },
      "outputs": [],
      "source": [
        "data['total_income_category'] = data['total_income'].apply(categorize_income)"
      ]
    },
    {
      "cell_type": "markdown",
      "id": "19c5f3a6",
      "metadata": {
        "deletable": false,
        "editable": false,
        "id": "19c5f3a6"
      },
      "source": [
        "**Задание 17. Выведите на экран перечень уникальных целей взятия кредита из столбца `purpose`.**"
      ]
    },
    {
      "cell_type": "code",
      "execution_count": 27,
      "id": "e920d90f",
      "metadata": {
        "deletable": false,
        "id": "e920d90f",
        "outputId": "2f1378e0-3cd7-417e-87ed-298a2a0cc351",
        "trusted": false,
        "colab": {
          "base_uri": "https://localhost:8080/"
        }
      },
      "outputs": [
        {
          "output_type": "execute_result",
          "data": {
            "text/plain": [
              "array(['покупка жилья', 'приобретение автомобиля',\n",
              "       'дополнительное образование', 'сыграть свадьбу',\n",
              "       'операции с жильем', 'образование', 'на проведение свадьбы',\n",
              "       'покупка жилья для семьи', 'покупка недвижимости',\n",
              "       'покупка коммерческой недвижимости', 'покупка жилой недвижимости',\n",
              "       'строительство собственной недвижимости', 'недвижимость',\n",
              "       'строительство недвижимости', 'на покупку подержанного автомобиля',\n",
              "       'на покупку своего автомобиля',\n",
              "       'операции с коммерческой недвижимостью',\n",
              "       'строительство жилой недвижимости', 'жилье',\n",
              "       'операции со своей недвижимостью', 'автомобили',\n",
              "       'заняться образованием', 'сделка с подержанным автомобилем',\n",
              "       'получение образования', 'автомобиль', 'свадьба',\n",
              "       'получение дополнительного образования', 'покупка своего жилья',\n",
              "       'операции с недвижимостью', 'получение высшего образования',\n",
              "       'свой автомобиль', 'сделка с автомобилем',\n",
              "       'профильное образование', 'высшее образование',\n",
              "       'покупка жилья для сдачи', 'на покупку автомобиля', 'ремонт жилью',\n",
              "       'заняться высшим образованием'], dtype=object)"
            ]
          },
          "metadata": {},
          "execution_count": 27
        }
      ],
      "source": [
        "data['purpose'].unique()"
      ]
    },
    {
      "cell_type": "markdown",
      "id": "d9c5bffb",
      "metadata": {
        "deletable": false,
        "editable": false,
        "id": "d9c5bffb"
      },
      "source": [
        "**Задание 18. Создайте функцию, которая на основании данных из столбца `purpose` сформирует новый столбец `purpose_category`, в который войдут следующие категории:**\n",
        "\n",
        "- `'операции с автомобилем'`,\n",
        "- `'операции с недвижимостью'`,\n",
        "- `'проведение свадьбы'`,\n",
        "- `'получение образования'`.\n",
        "\n",
        "**Например, если в столбце `purpose` находится подстрока `'на покупку автомобиля'`, то в столбце `purpose_category` должна появиться строка `'операции с автомобилем'`.**\n",
        "\n",
        "**Используйте собственную функцию с именем `categorize_purpose()` и метод `apply()`. Изучите данные в столбце `purpose` и определите, какие подстроки помогут вам правильно определить категорию.**"
      ]
    },
    {
      "cell_type": "code",
      "execution_count": 28,
      "id": "cd3372bb",
      "metadata": {
        "deletable": false,
        "id": "cd3372bb",
        "trusted": false
      },
      "outputs": [],
      "source": [
        "def categorize_purpose(row):\n",
        "    try:\n",
        "        if 'автом' in row:\n",
        "            return 'операции с автомобилем'\n",
        "        elif 'жил' in row or 'недвиж' in row:\n",
        "            return 'операции с недвижимостью'\n",
        "        elif 'свад' in row:\n",
        "            return 'проведение свадьбы'\n",
        "        elif 'образов' in row:\n",
        "            return 'получение образования'\n",
        "    except:\n",
        "        return 'нет категории'"
      ]
    },
    {
      "cell_type": "code",
      "execution_count": 29,
      "id": "7e9930b5",
      "metadata": {
        "deletable": false,
        "id": "7e9930b5",
        "trusted": false
      },
      "outputs": [],
      "source": [
        "data['purpose_category'] = data['purpose'].apply(categorize_purpose)"
      ]
    },
    {
      "cell_type": "markdown",
      "id": "b9906853",
      "metadata": {
        "deletable": false,
        "editable": false,
        "id": "b9906853"
      },
      "source": [
        "### Шаг 3. Исследуйте данные и ответьте на вопросы"
      ]
    },
    {
      "cell_type": "markdown",
      "id": "0b8c497c",
      "metadata": {
        "deletable": false,
        "editable": false,
        "id": "0b8c497c"
      },
      "source": [
        "#### 3.1 Есть ли зависимость между количеством детей и возвратом кредита в срок?"
      ]
    },
    {
      "cell_type": "code",
      "execution_count": 30,
      "id": "7937ed90",
      "metadata": {
        "deletable": false,
        "id": "7937ed90",
        "scrolled": true,
        "trusted": false,
        "outputId": "309cc128-03d0-40ea-f76c-33fa8cfecffd",
        "colab": {
          "base_uri": "https://localhost:8080/"
        }
      },
      "outputs": [
        {
          "output_type": "stream",
          "name": "stdout",
          "text": [
            "children\n",
            "0    0.924562\n",
            "1    0.907654\n",
            "2    0.905458\n",
            "3    0.918182\n",
            "4    0.902439\n",
            "5         NaN\n",
            "Name: debt, dtype: float64\n"
          ]
        }
      ],
      "source": [
        "# Ваш код будет здесь. Вы можете создавать новые ячейки.\n",
        "\n",
        "# разделим таблицу data на 2е - вернувших кредит в срок (on_time_data) и просрочивших (delay_data)\n",
        "on_time_data = data[data['debt'] == 0]\n",
        "delay_data = data[data['debt'] == 1]\n",
        "\n",
        "# Сгруппируем заемщиков по колличесту детей и сосчитаем по каждой группе колличество вернувших кредит в срок\n",
        "on_time_chil_num = on_time_data.groupby('children')['debt'].count()\n",
        "\n",
        "# Сгруппируем заемщиков по колличесту детей и сосчитаем по каждой группе колличество допустивших просрочку\n",
        "delay_data_chil_num = delay_data.groupby('children')['debt'].count()\n",
        "\n",
        "#расчитаем долю вернувших в срок в каждой группе ratio\n",
        "ratio = on_time_chil_num / (delay_data_chil_num + on_time_chil_num)\n",
        "\n",
        "#напечатаем результат\n",
        "print (ratio)"
      ]
    },
    {
      "cell_type": "markdown",
      "id": "446ac839",
      "metadata": {
        "deletable": false,
        "id": "446ac839"
      },
      "source": [
        "**Вывод:**\n",
        "Зависимости допустивших просрочку и возвратом кредита в срок от количества детей в семье не наблюдается.\n",
        " - Примечание: семьи с 5ю детьми ни разу не допусили просрочку."
      ]
    },
    {
      "cell_type": "markdown",
      "id": "4bf4ea1d",
      "metadata": {
        "deletable": false,
        "editable": false,
        "id": "4bf4ea1d"
      },
      "source": [
        "#### 3.2 Есть ли зависимость между семейным положением и возвратом кредита в срок?"
      ]
    },
    {
      "cell_type": "code",
      "execution_count": 31,
      "id": "7f474c04",
      "metadata": {
        "deletable": false,
        "id": "7f474c04",
        "trusted": false,
        "outputId": "69fd6cc4-a8e1-40d0-a29c-3c6eebaa28bf",
        "colab": {
          "base_uri": "https://localhost:8080/"
        }
      },
      "outputs": [
        {
          "output_type": "stream",
          "name": "stdout",
          "text": [
            "family_status\n",
            "Не женат / не замужем    0.902361\n",
            "гражданский брак         0.906870\n",
            "женат / замужем          0.924394\n",
            "в разводе                0.929352\n",
            "вдовец / вдова           0.933754\n",
            "Name: debt, dtype: float64\n"
          ]
        }
      ],
      "source": [
        "# Ваш код будет здесь. Вы можете создавать новые ячейки.\n",
        "\n",
        "# разделим таблицу data на 2е - вернувших кредит в срок (on_time_data) и просрочивших (delay_data)\n",
        "on_time_data = data[data['debt'] == 0]\n",
        "delay_data = data[data['debt'] == 1]\n",
        "\n",
        "# Сгруппируем заемщиков по семейному положению и сосчитаем по каждой группе колличество вернувших кредит в срок\n",
        "on_time_femely_status_num = on_time_data.groupby('family_status')['debt'].count()\n",
        "# print (on_time_femely_status_num) # для промежуточной проверки\n",
        "\n",
        "# Сгруппируем заемщиков по семейному положению и сосчитаем по каждой группе колличество допустивших просрочку\n",
        "delay_femely_status_num = delay_data.groupby('family_status')['debt'].count()\n",
        "# print (delay_femely_status_num) # для промежуточной проверки\n",
        "\n",
        "#расчитаем долю вернувших в срок в каждой группе ratio\n",
        "ratio = on_time_femely_status_num / (on_time_femely_status_num + delay_femely_status_num)\n",
        "\n",
        "#для удобства восприятия перед выводом на печать отсортируем данные\n",
        "print (ratio.sort_values())\n"
      ]
    },
    {
      "cell_type": "markdown",
      "id": "ba573761",
      "metadata": {
        "deletable": false,
        "id": "ba573761"
      },
      "source": [
        "**Вывод:** Наблюдается зависимость увеличения доли возврата кредита в срок от семейного положения. Чем более формализованы отношения в семье, тем меньше вероятность просрочки. Так неженатые / незамужние  и состоящие в гражданском браке чаще не возващают кредит в срок - **в 10% случаев** . А люди состоящие в разводе или вдовцы/вдовы только **в 6-7 %**."
      ]
    },
    {
      "cell_type": "markdown",
      "id": "084b3b3b",
      "metadata": {
        "deletable": false,
        "editable": false,
        "id": "084b3b3b"
      },
      "source": [
        "#### 3.3 Есть ли зависимость между уровнем дохода и возвратом кредита в срок?"
      ]
    },
    {
      "cell_type": "code",
      "execution_count": 31,
      "id": "87539e12",
      "metadata": {
        "trusted": false,
        "id": "87539e12"
      },
      "outputs": [],
      "source": []
    },
    {
      "cell_type": "code",
      "execution_count": 32,
      "id": "565fb3fc",
      "metadata": {
        "deletable": false,
        "id": "565fb3fc",
        "trusted": false,
        "outputId": "8f669400-a8b4-465d-9d57-619be5a63eb3",
        "colab": {
          "base_uri": "https://localhost:8080/",
          "height": 588
        }
      },
      "outputs": [
        {
          "output_type": "stream",
          "name": "stdout",
          "text": [
            "total_income_category\n",
            "A    0.920000\n",
            "B    0.929398\n",
            "C    0.915018\n",
            "D    0.939828\n",
            "E    0.909091\n",
            "Name: debt, dtype: float64\n"
          ]
        },
        {
          "output_type": "execute_result",
          "data": {
            "text/plain": [
              "<Axes: xlabel='debt'>"
            ]
          },
          "metadata": {},
          "execution_count": 32
        },
        {
          "output_type": "display_data",
          "data": {
            "text/plain": [
              "<Figure size 640x480 with 1 Axes>"
            ],
            "image/png": "[encoded data removed]"
          },
          "metadata": {}
        }
      ],
      "source": [
        "# Ваш код будет здесь. Вы можете создавать новые ячейки.\n",
        "\n",
        "# разделим таблицу data на 2е - вернувших кредит в срок (on_time_data) и просрочивших (delay_data)\n",
        "on_time_data = data[data['debt'] == 0]\n",
        "delay_data = data[data['debt'] == 1]\n",
        "\n",
        "# Сгруппируем заемщиков по категориям уровня дохода и сосчитаем по каждой группе колличество вернувших кредит в срок\n",
        "on_time_total_income_category_num = on_time_data.groupby('total_income_category')['debt'].count()\n",
        "#print (on_time_total_income_category_num) # для промежуточной проверки\n",
        "\n",
        "# Сгруппируем заемщиков по уровня дохода и сосчитаем по каждой группе колличество допустивших просрочку\n",
        "delay_total_income_category_num = delay_data.groupby('total_income_category')['debt'].count()\n",
        "#print (delay_total_income_category_num) # для промежуточной проверки\n",
        "\n",
        "#расчитаем долю вернувших в срок в каждой группе ratio\n",
        "ratio = on_time_total_income_category_num / (on_time_total_income_category_num + delay_total_income_category_num)\n",
        "\n",
        "#для удобства восприятия выведем на печать без сортировки\n",
        "print (ratio)\n",
        "\n",
        "import seaborn\n",
        "#для удобства восприятия перед выводом на печать расшифровку категории дохода\n",
        "i = ['1000001 и выше', '200001–1000000', '50001–200000', '30001–50000', '0–30000']\n",
        "seaborn.barplot(x=ratio, y= i)\n"
      ]
    },
    {
      "cell_type": "markdown",
      "id": "4efec08c",
      "metadata": {
        "deletable": false,
        "id": "4efec08c"
      },
      "source": [
        "**Вывод:** Нет явной зависимости возврата кредита в срок от уровня дохода. Самым опасным для выдачи кредита являются заемщики, у которых доходы ниже 30000, а также заемщики с доходом от 50001 до 200000."
      ]
    },
    {
      "cell_type": "markdown",
      "id": "e085af06",
      "metadata": {
        "id": "e085af06"
      },
      "source": [
        "<div class=\"alert alert-success\">\n",
        "<b>✔️ Комментарий ревьюера v1:</b>\n",
        "<br>Согласен! Идём дальше)\n",
        "</div>"
      ]
    },
    {
      "cell_type": "markdown",
      "id": "cdeffe63",
      "metadata": {
        "deletable": false,
        "editable": false,
        "id": "cdeffe63"
      },
      "source": [
        "#### 3.4 Как разные цели кредита влияют на его возврат в срок?"
      ]
    },
    {
      "cell_type": "code",
      "execution_count": 33,
      "id": "fc448243",
      "metadata": {
        "deletable": false,
        "id": "fc448243",
        "trusted": false,
        "outputId": "f2662532-b659-44cf-faad-ca6f4e679926",
        "colab": {
          "base_uri": "https://localhost:8080/"
        }
      },
      "outputs": [
        {
          "output_type": "stream",
          "name": "stdout",
          "text": [
            "purpose_category\n",
            "операции с автомобилем      0.906520\n",
            "получение образования       0.907472\n",
            "проведение свадьбы          0.920882\n",
            "операции с недвижимостью    0.927449\n",
            "Name: debt, dtype: float64\n"
          ]
        }
      ],
      "source": [
        "# Ваш код будет здесь. Вы можете создавать новые ячейки.\n",
        "#data.info() # промежуточный вывод для освежения памяти и правильного написания (copy|past) категорий целей кредита\n",
        "\n",
        "# разделим таблицу data на 2е - вернувших кредит в срок (on_time_data) и просрочивших (delay_data)\n",
        "on_time_data = data[data['debt'] == 0]\n",
        "delay_data = data[data['debt'] == 1]\n",
        "\n",
        "# Сгруппируем заемщиков по категориям целей кредита и сосчитаем по каждой группе колличество вернувших кредит в срок\n",
        "on_time_purpose_category_num = on_time_data.groupby('purpose_category')['debt'].count()\n",
        "#print (on_time_purpose_category_num) # для промежуточной проверки\n",
        "\n",
        "# Сгруппируем заемщиков по уровню дохода и сосчитаем по каждой группе колличество допустивших просрочку\n",
        "delay_purpose_category_num = delay_data.groupby('purpose_category')['debt'].count()\n",
        "#print (delay_purpose_category_num) # для промежуточной проверки\n",
        "\n",
        "#расчитаем долю вернувших в срок в каждой группе ratio\n",
        "ratio = on_time_purpose_category_num / (on_time_purpose_category_num + delay_purpose_category_num)\n",
        "\n",
        "#для удобства восприятия выведем на печать применив сортировку\n",
        "print (ratio.sort_values())\n"
      ]
    },
    {
      "cell_type": "markdown",
      "id": "ec266f91",
      "metadata": {
        "deletable": false,
        "id": "ec266f91"
      },
      "source": [
        "**Вывод:** В зависимости от целей кредита доля вернувших кредит в срок меняется. Самый высокий процент возврата в срок при **операциях с недвижимостью - 92,7449%**. Самый низкий - при **операциях с автомобилем - 90,6520%**."
      ]
    },
    {
      "cell_type": "markdown",
      "id": "3f185aa8",
      "metadata": {
        "deletable": false,
        "editable": false,
        "id": "3f185aa8"
      },
      "source": [
        "#### 3.5 Приведите возможные причины появления пропусков в исходных данных."
      ]
    },
    {
      "cell_type": "markdown",
      "id": "ab29c312",
      "metadata": {
        "deletable": false,
        "id": "ab29c312"
      },
      "source": [
        "*Ответ:* В исходной таблице пропуски были обнаружены в 2х сторках  *days_employed*  и   *total_income*. Скорее всего это ошибка или намеренные действия клиента, заполнявшего форму:\n",
        "- При заполнении \"количества рабочих дней в жизни\" (общий трудовой стаж) клиент мог не знать это число или не сообразить, как его сосчитать;\n",
        "- А при заполнении общего дохода клиент постеснялся или побоялся написать известную ему цифру."
      ]
    },
    {
      "cell_type": "markdown",
      "id": "ee5b251c",
      "metadata": {
        "deletable": false,
        "editable": false,
        "id": "ee5b251c"
      },
      "source": [
        "#### 3.6 Объясните, почему заполнить пропуски медианным значением — лучшее решение для количественных переменных."
      ]
    },
    {
      "cell_type": "markdown",
      "id": "997f8b80",
      "metadata": {
        "deletable": false,
        "id": "997f8b80"
      },
      "source": [
        "*Ответ:* При предобработке данных таблицы было обнаружено частичное отсутствие данных в столбцах\n",
        "- `days_employed` - общий трудовой стаж.\n",
        "- `total_income` - общий доход.\n",
        "\n",
        "И та и другая строчка - количественные переменные.\n",
        "Доля отсутствующих данных чуть больше 10%. Принято решение заполнить пропущенные значения **`медианным значением`** общего трудового стажа и общего дохода соответственно. Так как уровень дохода и общий трудовой стаж находятся в прямой зависимости от типа получения дохода `income_type` разумнее находить медианы по категориям получения дохода.\n",
        "Это лучшее решение для количественных переменных, так как исключает сдвиг числового значения при появлении нехарактерных больших или малых значений в соответствующих категориях"
      ]
    },
    {
      "cell_type": "markdown",
      "id": "cfc53f7b",
      "metadata": {
        "id": "cfc53f7b"
      },
      "source": [
        "<div class=\"alert alert-success\">\n",
        "<b>✔️ Комментарий ревьюера v1:</b>\n",
        "<br>Точно! Здорово, что ты помнишь об этом различии между средним и медианой\n",
        "</div>"
      ]
    },
    {
      "cell_type": "markdown",
      "id": "1d10e0d0",
      "metadata": {
        "deletable": false,
        "editable": false,
        "id": "1d10e0d0"
      },
      "source": [
        "### Шаг 4: общий вывод."
      ]
    },
    {
      "cell_type": "markdown",
      "id": "75a1be1d",
      "metadata": {
        "deletable": false,
        "id": "75a1be1d"
      },
      "source": [
        "## Выводы\n",
        "\n",
        "При исследовании таблицы с информацией о различных клиетах получавших кредит в банке выявлены *следующие закономерности*:\n",
        "- чем больше формализованы отношения в семье, тем выше вероятность возврата кредита в срок. Неженатые/незамужние и живущие гражданским браком более склонны к просрочке кредита, чем состоящие в разводе и вдовцы/вдовы.\n",
        "- чем серьезнее цель получения кредита, тем чаще клиенты отдают деньги в срок. цели кредита операции с недвижимостью и проведение свадьбы чаще возвращают кредит в срок, чем кредиты взятые на покупку автомобиля и получения образования.\n",
        "\n",
        "При изучении таблицы каких либо зависимостей возврата кредита в срок от `количества детей` в семье и `уровнем дохода` **не обнаружено**.\n"
      ]
    }
  ],
  "metadata": {
    "ExecuteTimeLog": [
      {
        "duration": 733,
        "start_time": "2022-10-10T13:50:04.597Z"
      },
      {
        "duration": 75,
        "start_time": "2022-10-10T13:50:09.793Z"
      },
      {
        "duration": 21,
        "start_time": "2022-10-10T13:50:16.338Z"
      },
      {
        "duration": 13,
        "start_time": "2022-10-10T13:50:25.631Z"
      },
      {
        "duration": 9,
        "start_time": "2022-10-10T13:50:36.605Z"
      },
      {
        "duration": 48,
        "start_time": "2022-10-10T13:51:33.138Z"
      },
      {
        "duration": 4,
        "start_time": "2022-10-10T13:51:39.438Z"
      },
      {
        "duration": 8,
        "start_time": "2022-10-10T13:51:54.364Z"
      },
      {
        "duration": 4,
        "start_time": "2022-10-10T13:52:07.365Z"
      },
      {
        "duration": 6,
        "start_time": "2022-10-10T13:52:36.256Z"
      },
      {
        "duration": 4,
        "start_time": "2022-10-10T13:52:41.236Z"
      },
      {
        "duration": 31,
        "start_time": "2022-10-10T13:54:59.016Z"
      },
      {
        "duration": 10,
        "start_time": "2022-10-10T13:55:02.276Z"
      },
      {
        "duration": 3,
        "start_time": "2022-10-10T13:55:06.715Z"
      },
      {
        "duration": 10,
        "start_time": "2022-10-10T13:55:27.048Z"
      },
      {
        "duration": 18,
        "start_time": "2022-10-10T13:55:34.787Z"
      },
      {
        "duration": 17,
        "start_time": "2022-10-10T13:55:36.169Z"
      },
      {
        "duration": 3,
        "start_time": "2022-10-10T13:56:00.527Z"
      },
      {
        "duration": 9,
        "start_time": "2022-10-10T13:56:05.869Z"
      },
      {
        "duration": 6,
        "start_time": "2022-10-10T13:56:11.296Z"
      },
      {
        "duration": 3,
        "start_time": "2022-10-10T13:56:28.120Z"
      },
      {
        "duration": 12,
        "start_time": "2022-10-10T13:56:34.697Z"
      },
      {
        "duration": 70,
        "start_time": "2022-10-10T14:11:04.908Z"
      },
      {
        "duration": 7,
        "start_time": "2022-10-10T14:11:39.560Z"
      },
      {
        "duration": 6,
        "start_time": "2022-10-10T14:11:59.017Z"
      },
      {
        "duration": 11,
        "start_time": "2022-10-10T14:13:37.784Z"
      },
      {
        "duration": 14,
        "start_time": "2022-10-10T14:25:21.528Z"
      },
      {
        "duration": 1049,
        "start_time": "2022-10-10T14:27:04.381Z"
      },
      {
        "duration": 925,
        "start_time": "2022-10-10T14:28:16.626Z"
      },
      {
        "duration": 1544,
        "start_time": "2022-10-10T14:39:04.283Z"
      },
      {
        "duration": 37,
        "start_time": "2022-10-10T14:43:26.921Z"
      },
      {
        "duration": 23,
        "start_time": "2022-10-10T14:47:48.898Z"
      },
      {
        "duration": 13,
        "start_time": "2022-10-10T14:59:02.305Z"
      },
      {
        "duration": 13,
        "start_time": "2022-10-10T15:01:57.797Z"
      },
      {
        "duration": 11,
        "start_time": "2022-10-10T15:11:12.249Z"
      },
      {
        "duration": 13,
        "start_time": "2022-10-10T15:16:55.466Z"
      },
      {
        "duration": 20,
        "start_time": "2022-10-10T15:22:58.807Z"
      },
      {
        "duration": 13,
        "start_time": "2022-10-10T15:25:12.063Z"
      },
      {
        "duration": 13,
        "start_time": "2022-10-10T15:26:20.024Z"
      },
      {
        "duration": 16,
        "start_time": "2022-10-10T15:32:29.473Z"
      },
      {
        "duration": 971,
        "start_time": "2022-10-10T15:39:23.774Z"
      },
      {
        "duration": 801,
        "start_time": "2022-10-10T15:40:48.902Z"
      },
      {
        "duration": 14,
        "start_time": "2022-10-10T15:50:10.574Z"
      },
      {
        "duration": 15,
        "start_time": "2022-10-10T16:04:18.639Z"
      },
      {
        "duration": 43,
        "start_time": "2022-10-10T16:08:58.109Z"
      },
      {
        "duration": 21,
        "start_time": "2022-10-10T16:10:45.141Z"
      },
      {
        "duration": 21,
        "start_time": "2022-10-10T16:11:20.725Z"
      },
      {
        "duration": 19,
        "start_time": "2022-10-10T16:12:48.241Z"
      },
      {
        "duration": 21,
        "start_time": "2022-10-10T16:18:18.730Z"
      },
      {
        "duration": 54,
        "start_time": "2022-10-10T16:21:09.630Z"
      },
      {
        "duration": 33,
        "start_time": "2022-10-10T16:24:02.682Z"
      },
      {
        "duration": 30,
        "start_time": "2022-10-10T16:25:38.661Z"
      },
      {
        "duration": 32,
        "start_time": "2022-10-10T16:28:04.096Z"
      },
      {
        "duration": 27,
        "start_time": "2022-10-10T16:38:49.350Z"
      },
      {
        "duration": 27,
        "start_time": "2022-10-10T17:03:14.284Z"
      },
      {
        "duration": 25,
        "start_time": "2022-10-10T17:15:46.342Z"
      },
      {
        "duration": 30,
        "start_time": "2022-10-10T17:16:25.193Z"
      },
      {
        "duration": 30,
        "start_time": "2022-10-10T17:24:30.927Z"
      },
      {
        "duration": 133,
        "start_time": "2022-10-10T17:27:19.152Z"
      },
      {
        "duration": 123,
        "start_time": "2022-10-10T17:28:31.550Z"
      },
      {
        "duration": 134,
        "start_time": "2022-10-10T17:30:38.322Z"
      },
      {
        "duration": 112,
        "start_time": "2022-10-10T17:34:24.621Z"
      },
      {
        "duration": 117,
        "start_time": "2022-10-10T17:35:46.161Z"
      },
      {
        "duration": 1039,
        "start_time": "2022-10-11T06:13:52.005Z"
      },
      {
        "duration": 19,
        "start_time": "2022-10-11T06:13:55.851Z"
      },
      {
        "duration": 15,
        "start_time": "2022-10-11T06:14:00.351Z"
      },
      {
        "duration": 9,
        "start_time": "2022-10-11T06:14:07.464Z"
      },
      {
        "duration": 29,
        "start_time": "2022-10-11T06:14:13.199Z"
      },
      {
        "duration": 3,
        "start_time": "2022-10-11T06:14:21.720Z"
      },
      {
        "duration": 8,
        "start_time": "2022-10-11T06:14:26.378Z"
      },
      {
        "duration": 4,
        "start_time": "2022-10-11T06:14:34.244Z"
      },
      {
        "duration": 6,
        "start_time": "2022-10-11T06:14:37.081Z"
      },
      {
        "duration": 4,
        "start_time": "2022-10-11T06:14:38.663Z"
      },
      {
        "duration": 42,
        "start_time": "2022-10-11T06:17:30.190Z"
      },
      {
        "duration": 10,
        "start_time": "2022-10-11T06:17:33.436Z"
      },
      {
        "duration": 3,
        "start_time": "2022-10-11T06:17:36.667Z"
      },
      {
        "duration": 10,
        "start_time": "2022-10-11T06:17:45.988Z"
      },
      {
        "duration": 18,
        "start_time": "2022-10-11T06:17:50.335Z"
      },
      {
        "duration": 15,
        "start_time": "2022-10-11T06:17:52.112Z"
      },
      {
        "duration": 4,
        "start_time": "2022-10-11T06:17:57.158Z"
      },
      {
        "duration": 10,
        "start_time": "2022-10-11T06:17:59.484Z"
      },
      {
        "duration": 5,
        "start_time": "2022-10-11T06:18:06.353Z"
      },
      {
        "duration": 3,
        "start_time": "2022-10-11T06:18:12.815Z"
      },
      {
        "duration": 8,
        "start_time": "2022-10-11T06:18:13.858Z"
      },
      {
        "duration": 15,
        "start_time": "2022-10-11T06:18:51.742Z"
      },
      {
        "duration": 12,
        "start_time": "2022-10-11T06:19:05.860Z"
      },
      {
        "duration": 954,
        "start_time": "2022-10-11T06:19:38.019Z"
      },
      {
        "duration": 111,
        "start_time": "2022-10-11T06:25:45.061Z"
      },
      {
        "duration": 4,
        "start_time": "2022-10-11T06:28:06.895Z"
      },
      {
        "duration": 7,
        "start_time": "2022-10-11T06:28:08.889Z"
      },
      {
        "duration": 17,
        "start_time": "2022-10-11T06:29:31.736Z"
      },
      {
        "duration": 24,
        "start_time": "2022-10-11T06:31:04.970Z"
      },
      {
        "duration": 12,
        "start_time": "2022-10-11T06:32:52.824Z"
      },
      {
        "duration": 14,
        "start_time": "2022-10-11T06:36:29.750Z"
      },
      {
        "duration": 13,
        "start_time": "2022-10-11T06:40:20.355Z"
      },
      {
        "duration": 63,
        "start_time": "2022-10-11T08:01:48.406Z"
      },
      {
        "duration": 15,
        "start_time": "2022-10-11T08:01:50.630Z"
      },
      {
        "duration": 12,
        "start_time": "2022-10-11T08:01:52.514Z"
      },
      {
        "duration": 9,
        "start_time": "2022-10-11T08:01:56.113Z"
      },
      {
        "duration": 34,
        "start_time": "2022-10-11T08:01:57.860Z"
      },
      {
        "duration": 3,
        "start_time": "2022-10-11T08:02:00.204Z"
      },
      {
        "duration": 7,
        "start_time": "2022-10-11T08:02:01.775Z"
      },
      {
        "duration": 4,
        "start_time": "2022-10-11T08:02:04.209Z"
      },
      {
        "duration": 5,
        "start_time": "2022-10-11T08:02:05.713Z"
      },
      {
        "duration": 4,
        "start_time": "2022-10-11T08:02:07.270Z"
      },
      {
        "duration": 30,
        "start_time": "2022-10-11T08:02:09.706Z"
      },
      {
        "duration": 9,
        "start_time": "2022-10-11T08:02:11.206Z"
      },
      {
        "duration": 4,
        "start_time": "2022-10-11T08:02:13.689Z"
      },
      {
        "duration": 10,
        "start_time": "2022-10-11T08:02:15.818Z"
      },
      {
        "duration": 18,
        "start_time": "2022-10-11T08:02:17.119Z"
      },
      {
        "duration": 16,
        "start_time": "2022-10-11T08:02:18.350Z"
      },
      {
        "duration": 3,
        "start_time": "2022-10-11T08:02:22.036Z"
      },
      {
        "duration": 8,
        "start_time": "2022-10-11T08:02:22.821Z"
      },
      {
        "duration": 7,
        "start_time": "2022-10-11T08:02:24.422Z"
      },
      {
        "duration": 4,
        "start_time": "2022-10-11T08:02:25.955Z"
      },
      {
        "duration": 8,
        "start_time": "2022-10-11T08:02:26.679Z"
      },
      {
        "duration": 14,
        "start_time": "2022-10-11T08:02:29.671Z"
      },
      {
        "duration": 14,
        "start_time": "2022-10-11T08:02:32.105Z"
      },
      {
        "duration": 111,
        "start_time": "2022-10-11T08:02:42.323Z"
      },
      {
        "duration": 12,
        "start_time": "2022-10-11T08:02:45.002Z"
      },
      {
        "duration": 466,
        "start_time": "2022-10-11T08:52:52.154Z"
      },
      {
        "duration": 27,
        "start_time": "2022-10-11T08:52:52.622Z"
      },
      {
        "duration": 21,
        "start_time": "2022-10-11T08:52:52.651Z"
      },
      {
        "duration": 11,
        "start_time": "2022-10-11T08:52:52.674Z"
      },
      {
        "duration": 67,
        "start_time": "2022-10-11T08:52:52.687Z"
      },
      {
        "duration": 5,
        "start_time": "2022-10-11T08:52:52.755Z"
      },
      {
        "duration": 14,
        "start_time": "2022-10-11T08:52:52.761Z"
      },
      {
        "duration": 6,
        "start_time": "2022-10-11T08:52:52.777Z"
      },
      {
        "duration": 10,
        "start_time": "2022-10-11T08:52:52.784Z"
      },
      {
        "duration": 27,
        "start_time": "2022-10-11T08:52:52.796Z"
      },
      {
        "duration": 58,
        "start_time": "2022-10-11T08:52:52.826Z"
      },
      {
        "duration": 9,
        "start_time": "2022-10-11T08:52:52.886Z"
      },
      {
        "duration": 7,
        "start_time": "2022-10-11T08:52:52.896Z"
      },
      {
        "duration": 22,
        "start_time": "2022-10-11T08:52:52.906Z"
      },
      {
        "duration": 32,
        "start_time": "2022-10-11T08:52:52.930Z"
      },
      {
        "duration": 18,
        "start_time": "2022-10-11T08:52:52.964Z"
      },
      {
        "duration": 5,
        "start_time": "2022-10-11T08:52:52.984Z"
      },
      {
        "duration": 33,
        "start_time": "2022-10-11T08:52:52.990Z"
      },
      {
        "duration": 20,
        "start_time": "2022-10-11T08:52:53.025Z"
      },
      {
        "duration": 8,
        "start_time": "2022-10-11T08:52:53.048Z"
      },
      {
        "duration": 21,
        "start_time": "2022-10-11T08:52:53.058Z"
      },
      {
        "duration": 24,
        "start_time": "2022-10-11T08:52:53.081Z"
      },
      {
        "duration": 22,
        "start_time": "2022-10-11T08:52:53.107Z"
      },
      {
        "duration": 925,
        "start_time": "2022-10-11T08:52:53.131Z"
      },
      {
        "duration": 15,
        "start_time": "2022-10-11T08:52:54.058Z"
      },
      {
        "duration": 67,
        "start_time": "2022-10-11T08:55:48.632Z"
      },
      {
        "duration": 15,
        "start_time": "2022-10-11T08:55:48.701Z"
      },
      {
        "duration": 16,
        "start_time": "2022-10-11T08:55:48.718Z"
      },
      {
        "duration": 9,
        "start_time": "2022-10-11T08:55:48.736Z"
      },
      {
        "duration": 38,
        "start_time": "2022-10-11T08:55:48.747Z"
      },
      {
        "duration": 3,
        "start_time": "2022-10-11T08:55:48.787Z"
      },
      {
        "duration": 14,
        "start_time": "2022-10-11T08:55:48.792Z"
      },
      {
        "duration": 15,
        "start_time": "2022-10-11T08:55:48.808Z"
      },
      {
        "duration": 7,
        "start_time": "2022-10-11T08:55:48.825Z"
      },
      {
        "duration": 8,
        "start_time": "2022-10-11T08:55:48.834Z"
      },
      {
        "duration": 70,
        "start_time": "2022-10-11T08:55:48.844Z"
      },
      {
        "duration": 12,
        "start_time": "2022-10-11T08:55:48.916Z"
      },
      {
        "duration": 17,
        "start_time": "2022-10-11T08:55:48.930Z"
      },
      {
        "duration": 25,
        "start_time": "2022-10-11T08:55:48.949Z"
      },
      {
        "duration": 29,
        "start_time": "2022-10-11T08:55:48.976Z"
      },
      {
        "duration": 22,
        "start_time": "2022-10-11T08:55:49.010Z"
      },
      {
        "duration": 5,
        "start_time": "2022-10-11T08:55:49.034Z"
      },
      {
        "duration": 22,
        "start_time": "2022-10-11T08:55:49.041Z"
      },
      {
        "duration": 14,
        "start_time": "2022-10-11T08:55:49.066Z"
      },
      {
        "duration": 6,
        "start_time": "2022-10-11T08:55:49.083Z"
      },
      {
        "duration": 13,
        "start_time": "2022-10-11T08:55:49.091Z"
      },
      {
        "duration": 37,
        "start_time": "2022-10-11T08:55:49.106Z"
      },
      {
        "duration": 22,
        "start_time": "2022-10-11T08:55:49.146Z"
      },
      {
        "duration": 164,
        "start_time": "2022-10-11T08:55:49.170Z"
      },
      {
        "duration": 15,
        "start_time": "2022-10-11T08:55:49.336Z"
      }
    ],
    "colab": {
      "provenance": [],
      "collapsed_sections": [
        "0b8c497c",
        "4bf4ea1d",
        "1d10e0d0"
      ]
    },
    "kernelspec": {
      "display_name": "Python 3 (ipykernel)",
      "language": "python",
      "name": "python3"
    },
    "language_info": {
      "codemirror_mode": {
        "name": "ipython",
        "version": 3
      },
      "file_extension": ".py",
      "mimetype": "text/x-python",
      "name": "python",
      "nbconvert_exporter": "python",
      "pygments_lexer": "ipython3",
      "version": "3.9.5"
    },
    "toc": {
      "base_numbering": 1,
      "nav_menu": {},
      "number_sections": true,
      "sideBar": true,
      "skip_h1_title": true,
      "title_cell": "Table of Contents",
      "title_sidebar": "Contents",
      "toc_cell": false,
      "toc_position": {},
      "toc_section_display": true,
      "toc_window_display": false
    }
  },
  "nbformat": 4,
  "nbformat_minor": 5
}